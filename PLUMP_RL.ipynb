{
 "cells": [
  {
   "cell_type": "code",
   "execution_count": 27,
   "metadata": {},
   "outputs": [
    {
     "name": "stdout",
     "output_type": "stream",
     "text": [
      "The autoreload extension is already loaded. To reload it, use:\n",
      "  %reload_ext autoreload\n"
     ]
    }
   ],
   "source": [
    "import gymnasium as gym\n",
    "import random\n",
    "from tqdm import tqdm\n",
    "from PLUMP_ENV import CardDeck, PlumpPlayer, PlumpEnv\n",
    "%load_ext autoreload\n",
    "%autoreload 2"
   ]
  },
  {
   "cell_type": "code",
   "execution_count": 2,
   "metadata": {},
   "outputs": [],
   "source": [
    "# Example usage:\n",
    "num_players = 4\n",
    "table = PlumpEnv(num_players)\n",
    "table.deal_cards(num_cards = 8)\n",
    "table.get_estimates()"
   ]
  },
  {
   "cell_type": "code",
   "execution_count": 3,
   "metadata": {},
   "outputs": [
    {
     "name": "stdout",
     "output_type": "stream",
     "text": [
      "Player 0\n",
      "6: Hearts\n",
      "10: Diamonds\n",
      "5: Clubs\n",
      "8: Spades\n",
      "3: Spades\n",
      "8: Clubs\n",
      "Ace: Clubs\n",
      "3: Clubs\n",
      "-.--.--.--.--.--.--.--.--.--.-\n",
      "Player 1\n",
      "6: Clubs\n",
      "3: Diamonds\n",
      "4: Spades\n",
      "Ace: Spades\n",
      "2: Clubs\n",
      "8: Diamonds\n",
      "King: Spades\n",
      "10: Hearts\n",
      "-.--.--.--.--.--.--.--.--.--.-\n",
      "Player 2\n",
      "4: Hearts\n",
      "7: Spades\n",
      "3: Hearts\n",
      "Jack: Spades\n",
      "Queen: Spades\n",
      "King: Clubs\n",
      "9: Clubs\n",
      "6: Spades\n",
      "-.--.--.--.--.--.--.--.--.--.-\n",
      "Player 3\n",
      "Queen: Diamonds\n",
      "2: Diamonds\n",
      "Jack: Clubs\n",
      "5: Spades\n",
      "4: Clubs\n",
      "King: Diamonds\n",
      "10: Spades\n",
      "8: Hearts\n",
      "-.--.--.--.--.--.--.--.--.--.-\n"
     ]
    }
   ],
   "source": [
    "for i, p in enumerate(table.players):\n",
    "    print(f\"Player {i}\")\n",
    "    for card in p.hand:\n",
    "        print(f\"{card['rank']}: {card['suit']}\")\n",
    "    print('-.-'*10)"
   ]
  },
  {
   "cell_type": "code",
   "execution_count": 4,
   "metadata": {},
   "outputs": [],
   "source": [
    "table.play_the_hands()"
   ]
  },
  {
   "cell_type": "code",
   "execution_count": 23,
   "metadata": {},
   "outputs": [
    {
     "name": "stdout",
     "output_type": "stream",
     "text": [
      "10\n",
      "9\n",
      "8\n",
      "7\n",
      "6\n",
      "5\n",
      "4\n",
      "3\n",
      "2\n",
      "1\n",
      "1\n",
      "2\n",
      "3\n",
      "4\n",
      "5\n",
      "6\n",
      "7\n",
      "8\n",
      "9\n",
      "10\n",
      "Final Results:\n",
      "Player 0: Points=114\n",
      "Player 1: Points=84\n",
      "Player 2: Points=69\n",
      "Player 3: Points=93\n",
      "Protocol:\n",
      "Player 0: [13, 0, 12, 11, 11, 0, 12, 0, 0, 0, 0, 11, 0, 10, 0, 11, 0, 0, 11, 12]\n",
      "Player 1: [0, 0, 0, 11, 10, 11, 0, 10, 11, 10, 0, 10, 0, 0, 11, 0, 0, 0, 0, 0]\n",
      "Player 2: [0, 13, 0, 0, 0, 0, 10, 0, 0, 0, 10, 0, 11, 0, 12, 0, 0, 0, 13, 0]\n",
      "Player 3: [0, 0, 0, 0, 13, 12, 11, 0, 11, 11, 0, 11, 0, 0, 11, 13, 0, 0, 0, 0]\n"
     ]
    }
   ],
   "source": [
    "num_players = 4  # Change the number of players as needed\n",
    "stick_strategies =['Royal Count'] *4\n",
    "assert len(stick_strategies)== num_players, f\"You have {len(stick_strategies)} strategies but only {num_players}!\"\n",
    "env = PlumpEnv(num_players, stick_strategies)\n",
    "\n",
    "num_hands = 10\n",
    "if num_hands < 1 or num_hands > 20:\n",
    "    print(\"Invalid input. Please enter a value between 20 and 1.\")\n",
    "    exit()\n",
    "\n",
    "go_down_then_up = True  \n",
    "if go_down_then_up:\n",
    "    range_values = range(num_hands, 0, -1)  # Count down\n",
    "    range_values = list(range_values) + list(range(1, num_hands + 1))  # Count up\n",
    "else:\n",
    "    range_values = range(num_hands, 0, -1)  # Count down\n",
    "\n",
    "for num_cards in range_values:\n",
    "    print(num_cards)\n",
    "    env.play_full_hand(num_cards=num_cards)\n",
    "\n",
    "# Print the final results and protocol\n",
    "print(\"Final Results:\")\n",
    "for player in env.players:\n",
    "    print(f\"Player {player.player_id}: Points={player.points}\")\n",
    "\n",
    "print(\"Protocol:\")\n",
    "for player_id, points_list in env.protocol.items():\n",
    "    print(f\"Player {player_id}: {points_list}\")"
   ]
  },
  {
   "cell_type": "code",
   "execution_count": 34,
   "metadata": {},
   "outputs": [
    {
     "name": "stderr",
     "output_type": "stream",
     "text": [
      "100%|██████████| 10/10 [01:50<00:00, 11.02s/# of cards being simulated]"
     ]
    },
    {
     "name": "stdout",
     "output_type": "stream",
     "text": [
      "Strategy ['Royal Count', 'Royal Count', 'Royal Count', 'Royal Count']\n",
      "Given starting num_hands = 10, the expected value is = 74.7805\n",
      "Given starting num_hands = 9, the expected value is = 69.87125\n",
      "Given starting num_hands = 8, the expected value is = 63.6295\n",
      "Given starting num_hands = 7, the expected value is = 57.42625\n",
      "Given starting num_hands = 6, the expected value is = 50.72025\n",
      "Given starting num_hands = 5, the expected value is = 44.272\n",
      "Given starting num_hands = 4, the expected value is = 37.16925\n",
      "Given starting num_hands = 3, the expected value is = 29.878\n",
      "Given starting num_hands = 2, the expected value is = 22.82925\n",
      "Given starting num_hands = 1, the expected value is = 13.87575\n",
      "-.--.--.--.--.--.--.--.--.--.--.--.--.--.--.--.--.--.--.--.-\n",
      "Strategy ['Random', 'Random', 'Random', 'Random']\n",
      "Given starting num_hands = 10, the expected value is = 42.911\n",
      "Given starting num_hands = 9, the expected value is = 40.016\n",
      "Given starting num_hands = 8, the expected value is = 38.30125\n",
      "Given starting num_hands = 7, the expected value is = 35.82725\n",
      "Given starting num_hands = 6, the expected value is = 32.51375\n",
      "Given starting num_hands = 5, the expected value is = 29.285\n",
      "Given starting num_hands = 4, the expected value is = 25.9365\n",
      "Given starting num_hands = 3, the expected value is = 21.969\n",
      "Given starting num_hands = 2, the expected value is = 17.1355\n",
      "Given starting num_hands = 1, the expected value is = 11.2375\n"
     ]
    },
    {
     "name": "stderr",
     "output_type": "stream",
     "text": [
      "\n"
     ]
    }
   ],
   "source": [
    "import numpy as np\n",
    "\n",
    "num_players = 4  # Change the number of players as needed\n",
    "num_simulations = 1000  # Number of Monte Carlo simulations\n",
    "stick_strategies1 =['Royal Count'] *4\n",
    "stick_strategies2 =['Random'] *4\n",
    "\n",
    "def run_simulation(num_players, num_hands, stick_strategies, go_down_then_up):\n",
    "    assert len(stick_strategies)== num_players, f\"You have {len(stick_strategies)} strategies but only {num_players}!\"\n",
    "\n",
    "    env = PlumpEnv(num_players, stick_strategies)\n",
    "    if num_hands < 1 or num_hands > 20:\n",
    "        print(\"Invalid input. Please enter a value between 20 and 1.\")\n",
    "        exit()\n",
    "\n",
    "    if go_down_then_up:\n",
    "        range_values = range(num_hands, 0, -1)  # Count down\n",
    "        range_values = list(range_values) + list(range(1, num_hands + 1))  # Count up\n",
    "    else:\n",
    "        range_values = range(num_hands, 0, -1)  # Count down\n",
    "\n",
    "    for num_cards in range_values:\n",
    "        env.play_full_hand(num_cards=num_cards)\n",
    "\n",
    "    return [player.points for player in env.players]\n",
    "\n",
    "# Run Monte Carlo simulations\n",
    "go_down_then_up = True\n",
    "results1 = {}\n",
    "results2 = {}\n",
    "for n in tqdm((range(10, 0, -1)), unit= 'Hand size'):\n",
    "    result1 = []\n",
    "    result2 = []\n",
    "    for _ in range(num_simulations):\n",
    "        points1 = run_simulation(num_players=num_players, num_hands=n, stick_strategies=stick_strategies1, go_down_then_up=go_down_then_up)\n",
    "        points2 = run_simulation(num_players=num_players, num_hands=n, stick_strategies=stick_strategies2, go_down_then_up=go_down_then_up)\n",
    "        result1.append(np.mean(points1))\n",
    "        result2.append(np.mean(points2))\n",
    "    average_points1 = np.mean(result1)\n",
    "    average_points2 = np.mean(result2)\n",
    "    results1[n] = average_points1\n",
    "    results2[n] = average_points2\n",
    "\n",
    "print(f\"Strategy {stick_strategies1}\")\n",
    "for n, p in results1.items():\n",
    "    print(f\"Given starting num_hands = {n}, the expected value is = {p}\")\n",
    "print('-.-'*20)\n",
    "print(f\"Strategy {stick_strategies2}\")\n",
    "for n, p in results2.items():\n",
    "    print(f\"Given starting num_hands = {n}, the expected value is = {p}\")\n"
   ]
  },
  {
   "cell_type": "code",
   "execution_count": 129,
   "metadata": {},
   "outputs": [],
   "source": [
    "import numpy as np\n",
    "\n",
    "# Define the range of num_hands and num_players\n",
    "num_simulations = 10000  # Number of Monte Carlo simulations\n",
    "num_hands_range = range(10, 0, -1)\n",
    "num_players_range = range(5, 1, -1)  # From 5 to 2\n",
    "\n",
    "# Run Monte Carlo simulations for different combinations of num_hands and num_players\n",
    "results = {}\n",
    "for num_hands in num_hands_range:\n",
    "    results[num_hands] = {}\n",
    "    for num_players in num_players_range:\n",
    "        for _ in range(num_simulations):\n",
    "            result = run_simulation(num_hands, num_players, go_down_then_up)\n",
    "            results[num_hands][num_players] = np.mean(result)"
   ]
  },
  {
   "cell_type": "code",
   "execution_count": 131,
   "metadata": {},
   "outputs": [
    {
     "name": "stdout",
     "output_type": "stream",
     "text": [
      "Num_Hands=10\tNum_Players=5\tExpected Value=30.500\n",
      "Num_Hands=10\tNum_Players=4\tExpected Value=24.200\n",
      "Num_Hands=10\tNum_Players=3\tExpected Value=21.300\n",
      "Num_Hands=10\tNum_Players=2\tExpected Value=11.100\n",
      "-.--.--.--.--.--.--.--.--.--.--.--.--.--.--.--.--.--.--.--.-\n",
      "Num_Hands=9\tNum_Players=5\tExpected Value=24.889\n",
      "Num_Hands=9\tNum_Players=4\tExpected Value=31.556\n",
      "Num_Hands=9\tNum_Players=3\tExpected Value=19.222\n",
      "Num_Hands=9\tNum_Players=2\tExpected Value=17.000\n",
      "-.--.--.--.--.--.--.--.--.--.--.--.--.--.--.--.--.--.--.--.-\n",
      "Num_Hands=8\tNum_Players=5\tExpected Value=29.625\n",
      "Num_Hands=8\tNum_Players=4\tExpected Value=28.500\n",
      "Num_Hands=8\tNum_Players=3\tExpected Value=26.625\n",
      "Num_Hands=8\tNum_Players=2\tExpected Value=17.875\n",
      "-.--.--.--.--.--.--.--.--.--.--.--.--.--.--.--.--.--.--.--.-\n",
      "Num_Hands=7\tNum_Players=5\tExpected Value=35.571\n",
      "Num_Hands=7\tNum_Players=4\tExpected Value=28.000\n",
      "Num_Hands=7\tNum_Players=3\tExpected Value=20.429\n",
      "Num_Hands=7\tNum_Players=2\tExpected Value=13.143\n",
      "-.--.--.--.--.--.--.--.--.--.--.--.--.--.--.--.--.--.--.--.-\n",
      "Num_Hands=6\tNum_Players=5\tExpected Value=31.500\n",
      "Num_Hands=6\tNum_Players=4\tExpected Value=25.333\n",
      "Num_Hands=6\tNum_Players=3\tExpected Value=22.333\n",
      "Num_Hands=6\tNum_Players=2\tExpected Value=12.167\n",
      "-.--.--.--.--.--.--.--.--.--.--.--.--.--.--.--.--.--.--.--.-\n",
      "Num_Hands=5\tNum_Players=5\tExpected Value=20.800\n",
      "Num_Hands=5\tNum_Players=4\tExpected Value=21.200\n",
      "Num_Hands=5\tNum_Players=3\tExpected Value=16.600\n",
      "Num_Hands=5\tNum_Players=2\tExpected Value=18.600\n",
      "-.--.--.--.--.--.--.--.--.--.--.--.--.--.--.--.--.--.--.--.-\n",
      "Num_Hands=4\tNum_Players=5\tExpected Value=31.750\n",
      "Num_Hands=4\tNum_Players=4\tExpected Value=20.250\n",
      "Num_Hands=4\tNum_Players=3\tExpected Value=12.750\n",
      "Num_Hands=4\tNum_Players=2\tExpected Value=10.500\n",
      "-.--.--.--.--.--.--.--.--.--.--.--.--.--.--.--.--.--.--.--.-\n",
      "Num_Hands=3\tNum_Players=5\tExpected Value=14.333\n",
      "Num_Hands=3\tNum_Players=4\tExpected Value=31.667\n",
      "Num_Hands=3\tNum_Players=3\tExpected Value=21.333\n",
      "Num_Hands=3\tNum_Players=2\tExpected Value=17.333\n",
      "-.--.--.--.--.--.--.--.--.--.--.--.--.--.--.--.--.--.--.--.-\n",
      "Num_Hands=2\tNum_Players=5\tExpected Value=31.000\n",
      "Num_Hands=2\tNum_Players=4\tExpected Value=29.000\n",
      "Num_Hands=2\tNum_Players=3\tExpected Value=26.500\n",
      "Num_Hands=2\tNum_Players=2\tExpected Value=16.000\n",
      "-.--.--.--.--.--.--.--.--.--.--.--.--.--.--.--.--.--.--.--.-\n",
      "Num_Hands=1\tNum_Players=5\tExpected Value=0.000\n",
      "Num_Hands=1\tNum_Players=4\tExpected Value=0.000\n",
      "Num_Hands=1\tNum_Players=3\tExpected Value=0.000\n",
      "Num_Hands=1\tNum_Players=2\tExpected Value=0.000\n",
      "-.--.--.--.--.--.--.--.--.--.--.--.--.--.--.--.--.--.--.--.-\n"
     ]
    }
   ],
   "source": [
    "for num_hands in num_hands_range:\n",
    "    for num_players in num_players_range:\n",
    "        expected_value = results[num_hands][num_players]\n",
    "        print(f\"Num_Hands={num_hands}\\tNum_Players={num_players}\\tExpected Value={expected_value:.3f}\")\n",
    "    print('-.-'*20)"
   ]
  },
  {
   "cell_type": "code",
   "execution_count": null,
   "metadata": {},
   "outputs": [],
   "source": []
  }
 ],
 "metadata": {
  "kernelspec": {
   "display_name": "Python 3",
   "language": "python",
   "name": "python3"
  },
  "language_info": {
   "codemirror_mode": {
    "name": "ipython",
    "version": 3
   },
   "file_extension": ".py",
   "mimetype": "text/x-python",
   "name": "python",
   "nbconvert_exporter": "python",
   "pygments_lexer": "ipython3",
   "version": "3.11.5"
  }
 },
 "nbformat": 4,
 "nbformat_minor": 2
}
