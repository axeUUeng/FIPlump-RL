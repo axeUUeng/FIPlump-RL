{
 "cells": [
  {
   "cell_type": "code",
   "execution_count": 27,
   "metadata": {},
   "outputs": [
    {
     "name": "stdout",
     "output_type": "stream",
     "text": [
      "The autoreload extension is already loaded. To reload it, use:\n",
      "  %reload_ext autoreload\n"
     ]
    }
   ],
   "source": [
    "import gymnasium as gym\n",
    "import numpy as np\n",
    "import random\n",
    "from tqdm import tqdm\n",
    "from PLUMP_ENV import CardDeck, PlumpPlayer, PlumpEnv\n",
    "%load_ext autoreload\n",
    "%autoreload 2"
   ]
  },
  {
   "cell_type": "code",
   "execution_count": 2,
   "metadata": {},
   "outputs": [],
   "source": [
    "# Example usage:\n",
    "num_players = 4\n",
    "table = PlumpEnv(num_players)\n",
    "table.deal_cards(num_cards = 8)\n",
    "table.get_estimates()"
   ]
  },
  {
   "cell_type": "code",
   "execution_count": 3,
   "metadata": {},
   "outputs": [
    {
     "name": "stdout",
     "output_type": "stream",
     "text": [
      "Player 0\n",
      "6: Hearts\n",
      "10: Diamonds\n",
      "5: Clubs\n",
      "8: Spades\n",
      "3: Spades\n",
      "8: Clubs\n",
      "Ace: Clubs\n",
      "3: Clubs\n",
      "-.--.--.--.--.--.--.--.--.--.-\n",
      "Player 1\n",
      "6: Clubs\n",
      "3: Diamonds\n",
      "4: Spades\n",
      "Ace: Spades\n",
      "2: Clubs\n",
      "8: Diamonds\n",
      "King: Spades\n",
      "10: Hearts\n",
      "-.--.--.--.--.--.--.--.--.--.-\n",
      "Player 2\n",
      "4: Hearts\n",
      "7: Spades\n",
      "3: Hearts\n",
      "Jack: Spades\n",
      "Queen: Spades\n",
      "King: Clubs\n",
      "9: Clubs\n",
      "6: Spades\n",
      "-.--.--.--.--.--.--.--.--.--.-\n",
      "Player 3\n",
      "Queen: Diamonds\n",
      "2: Diamonds\n",
      "Jack: Clubs\n",
      "5: Spades\n",
      "4: Clubs\n",
      "King: Diamonds\n",
      "10: Spades\n",
      "8: Hearts\n",
      "-.--.--.--.--.--.--.--.--.--.-\n"
     ]
    }
   ],
   "source": [
    "for i, p in enumerate(table.players):\n",
    "    print(f\"Player {i}\")\n",
    "    for card in p.hand:\n",
    "        print(f\"{card['rank']}: {card['suit']}\")\n",
    "    print('-.-'*10)"
   ]
  },
  {
   "cell_type": "code",
   "execution_count": 4,
   "metadata": {},
   "outputs": [],
   "source": [
    "table.play_the_hands()"
   ]
  },
  {
   "cell_type": "code",
   "execution_count": 23,
   "metadata": {},
   "outputs": [
    {
     "name": "stdout",
     "output_type": "stream",
     "text": [
      "10\n",
      "9\n",
      "8\n",
      "7\n",
      "6\n",
      "5\n",
      "4\n",
      "3\n",
      "2\n",
      "1\n",
      "1\n",
      "2\n",
      "3\n",
      "4\n",
      "5\n",
      "6\n",
      "7\n",
      "8\n",
      "9\n",
      "10\n",
      "Final Results:\n",
      "Player 0: Points=114\n",
      "Player 1: Points=84\n",
      "Player 2: Points=69\n",
      "Player 3: Points=93\n",
      "Protocol:\n",
      "Player 0: [13, 0, 12, 11, 11, 0, 12, 0, 0, 0, 0, 11, 0, 10, 0, 11, 0, 0, 11, 12]\n",
      "Player 1: [0, 0, 0, 11, 10, 11, 0, 10, 11, 10, 0, 10, 0, 0, 11, 0, 0, 0, 0, 0]\n",
      "Player 2: [0, 13, 0, 0, 0, 0, 10, 0, 0, 0, 10, 0, 11, 0, 12, 0, 0, 0, 13, 0]\n",
      "Player 3: [0, 0, 0, 0, 13, 12, 11, 0, 11, 11, 0, 11, 0, 0, 11, 13, 0, 0, 0, 0]\n"
     ]
    }
   ],
   "source": [
    "num_players = 4  # Change the number of players as needed\n",
    "stick_strategies =['Royal Count'] *4\n",
    "assert len(stick_strategies)== num_players, f\"You have {len(stick_strategies)} strategies but only {num_players}!\"\n",
    "env = PlumpEnv(num_players, stick_strategies)\n",
    "\n",
    "num_hands = 10\n",
    "if num_hands < 1 or num_hands > 20:\n",
    "    print(\"Invalid input. Please enter a value between 20 and 1.\")\n",
    "    exit()\n",
    "\n",
    "go_down_then_up = True  \n",
    "if go_down_then_up:\n",
    "    range_values = range(num_hands, 0, -1)  # Count down\n",
    "    range_values = list(range_values) + list(range(1, num_hands + 1))  # Count up\n",
    "else:\n",
    "    range_values = range(num_hands, 0, -1)  # Count down\n",
    "\n",
    "for num_cards in range_values:\n",
    "    print(num_cards)\n",
    "    env.play_full_hand(num_cards=num_cards)\n",
    "\n",
    "# Print the final results and protocol\n",
    "print(\"Final Results:\")\n",
    "for player in env.players:\n",
    "    print(f\"Player {player.player_id}: Points={player.points}\")\n",
    "\n",
    "print(\"Protocol:\")\n",
    "for player_id, points_list in env.protocol.items():\n",
    "    print(f\"Player {player_id}: {points_list}\")"
   ]
  },
  {
   "cell_type": "code",
   "execution_count": 42,
   "metadata": {},
   "outputs": [],
   "source": [
    "def run_simulation(num_players, num_hands, stick_strategies, go_down_then_up):\n",
    "    assert len(stick_strategies) == num_players, f\"You have {len(stick_strategies)} strategies but {num_players} players!\"\n",
    "\n",
    "    env = PlumpEnv(num_players, stick_strategies)\n",
    "    if num_hands < 1 or num_hands > 20:\n",
    "        print(\"Invalid input. Please enter a value between 20 and 1.\")\n",
    "        exit()\n",
    "\n",
    "    if go_down_then_up:\n",
    "        range_values = range(num_hands, 0, -1)  # Count down\n",
    "        range_values = list(range_values) + list(range(1, num_hands + 1))  # Count up\n",
    "    else:\n",
    "        range_values = range(num_hands, 0, -1)  # Count down\n",
    "\n",
    "    for num_cards in range_values:\n",
    "        env.play_full_hand(num_cards=num_cards)\n",
    "\n",
    "    return [player.points for player in env.players]"
   ]
  },
  {
   "cell_type": "code",
   "execution_count": 60,
   "metadata": {},
   "outputs": [
    {
     "name": "stderr",
     "output_type": "stream",
     "text": [
      "  0%|          | 0/10 [00:00<?, ?Hand size/s]"
     ]
    },
    {
     "name": "stderr",
     "output_type": "stream",
     "text": [
      "100%|██████████| 10/10 [00:31<00:00,  3.13s/Hand size]"
     ]
    },
    {
     "name": "stdout",
     "output_type": "stream",
     "text": [
      "Strategy ['Royal Count', 'Royal Count', 'Royal Count', 'Royal Count']\n",
      "Given starting num_hands = 10, the expected value is = 76.056\n",
      "Given starting num_hands = 9, the expected value is = 69.445\n",
      "Given starting num_hands = 8, the expected value is = 63.214\n",
      "Given starting num_hands = 7, the expected value is = 57.67125\n",
      "Given starting num_hands = 6, the expected value is = 51.28825\n",
      "Given starting num_hands = 5, the expected value is = 43.64625\n",
      "Given starting num_hands = 4, the expected value is = 37.03825\n",
      "Given starting num_hands = 3, the expected value is = 30.125\n",
      "Given starting num_hands = 2, the expected value is = 22.769\n",
      "Given starting num_hands = 1, the expected value is = 13.823\n",
      "-.--.--.--.--.--.--.--.--.--.--.--.--.--.--.--.--.--.--.--.-\n",
      "Strategy ['Random', 'Random', 'Random', 'Random']\n",
      "Given starting num_hands = 10, the expected value is = 43.00525\n",
      "Given starting num_hands = 9, the expected value is = 40.263\n",
      "Given starting num_hands = 8, the expected value is = 38.3245\n",
      "Given starting num_hands = 7, the expected value is = 35.884\n",
      "Given starting num_hands = 6, the expected value is = 32.2145\n",
      "Given starting num_hands = 5, the expected value is = 29.28875\n",
      "Given starting num_hands = 4, the expected value is = 25.98325\n",
      "Given starting num_hands = 3, the expected value is = 21.932\n",
      "Given starting num_hands = 2, the expected value is = 17.05425\n",
      "Given starting num_hands = 1, the expected value is = 11.141\n"
     ]
    },
    {
     "name": "stderr",
     "output_type": "stream",
     "text": [
      "\n"
     ]
    }
   ],
   "source": [
    "import numpy as np\n",
    "\n",
    "num_players = 4  # Change the number of players as needed\n",
    "num_simulations = 1000  # Number of Monte Carlo simulations\n",
    "stick_strategies1 =['Royal Count'] *4\n",
    "stick_strategies2 =['Random'] *4\n",
    "\n",
    "\n",
    "# Run Monte Carlo simulations\n",
    "go_down_then_up = True\n",
    "results1 = {}\n",
    "results2 = {}\n",
    "for n in tqdm((range(10, 0, -1)), unit= 'Hand size'):\n",
    "    result1 = []\n",
    "    result2 = []\n",
    "    for _ in range(num_simulations):\n",
    "        points1 = run_simulation(num_players=num_players, num_hands=n, go_down_then_up=go_down_then_up, stick_strategies=stick_strategies1)\n",
    "        points2 = run_simulation(num_players=num_players, num_hands=n, go_down_then_up=go_down_then_up, stick_strategies=stick_strategies2)\n",
    "        result1.append(np.mean(points1))\n",
    "        result2.append(np.mean(points2))\n",
    "    average_points1 = np.mean(result1)\n",
    "    average_points2 = np.mean(result2)\n",
    "    results1[n] = average_points1\n",
    "    results2[n] = average_points2\n",
    "\n",
    "print(f\"Strategy {stick_strategies1}\")\n",
    "for n, p in results1.items():\n",
    "    print(f\"Given starting num_hands = {n}, the expected value is = {p}\")\n",
    "print('-.-'*20)\n",
    "print(f\"Strategy {stick_strategies2}\")\n",
    "for n, p in results2.items():\n",
    "    print(f\"Given starting num_hands = {n}, the expected value is = {p}\")\n"
   ]
  },
  {
   "cell_type": "code",
   "execution_count": 63,
   "metadata": {},
   "outputs": [
    {
     "name": "stderr",
     "output_type": "stream",
     "text": [
      "100%|██████████| 10/10 [01:51<00:00, 11.16s/Hands]\n"
     ]
    }
   ],
   "source": [
    "\n",
    "num_simulations = 1000  # Number of Monte Carlo simulations\n",
    "num_hands_range = range(10, 0, -1)\n",
    "num_players_range = range(5, 1, -1)  # From 5 to 2 players\n",
    "\n",
    "\n",
    "# Run Monte Carlo simulations for different combinations of num_hands and num_players\n",
    "go_down_then_up = True\n",
    "results1 = {}\n",
    "results2 = {}\n",
    "for num_hands in tqdm(num_hands_range, unit='Hands'):\n",
    "    results1[num_hands] = {}\n",
    "    results2[num_hands] = {}\n",
    "    for num_players in tqdm(num_players_range, unit='Players', leave=False):\n",
    "        for _ in range(num_simulations):\n",
    "            stick_strategies1 =['Royal Count'] * num_players\n",
    "            stick_strategies2 =['Random'] * num_players\n",
    "            assert num_players*num_hands <= 52, f\"Too many cards need to be dealt {num_hands*num_players} > 52\"\n",
    "            result1 = run_simulation(num_players, num_hands, stick_strategies1, go_down_then_up)\n",
    "            result2 = run_simulation(num_players, num_hands, stick_strategies2, go_down_then_up)\n",
    "            \n",
    "            results1[num_hands][num_players] = np.mean(result1)\n",
    "            results2[num_hands][num_players] = np.mean(result2)"
   ]
  },
  {
   "cell_type": "code",
   "execution_count": 64,
   "metadata": {},
   "outputs": [
    {
     "name": "stdout",
     "output_type": "stream",
     "text": [
      "# of hands\t# of players\tRoyal Count-Strategy\tRandom-strategy\n",
      "-.--.--.--.--.--.--.--.--.--.--.--.--.--.--.--.--.--.--.--.--.--.--.--.--.-\n",
      "10\t\t5\t\t53.400\t\t\t53.000\n",
      "10\t\t4\t\t73.500\t\t\t43.250\n",
      "10\t\t3\t\t69.000\t\t\t37.333\n",
      "10\t\t2\t\t66.500\t\t\t65.000\n",
      "\n",
      "# of hands\t# of players\tRoyal Count-Strategy\tRandom-strategy\n",
      "-.--.--.--.--.--.--.--.--.--.--.--.--.--.--.--.--.--.--.--.--.--.--.--.--.-\n",
      "9\t\t5\t\t78.000\t\t\t44.400\n",
      "9\t\t4\t\t44.250\t\t\t45.500\n",
      "9\t\t3\t\t60.333\t\t\t45.333\n",
      "9\t\t2\t\t53.000\t\t\t58.000\n",
      "\n",
      "# of hands\t# of players\tRoyal Count-Strategy\tRandom-strategy\n",
      "-.--.--.--.--.--.--.--.--.--.--.--.--.--.--.--.--.--.--.--.--.--.--.--.--.-\n",
      "8\t\t5\t\t59.000\t\t\t33.600\n",
      "8\t\t4\t\t68.750\t\t\t43.250\n",
      "8\t\t3\t\t66.333\t\t\t21.333\n",
      "8\t\t2\t\t43.500\t\t\t40.000\n",
      "\n",
      "# of hands\t# of players\tRoyal Count-Strategy\tRandom-strategy\n",
      "-.--.--.--.--.--.--.--.--.--.--.--.--.--.--.--.--.--.--.--.--.--.--.--.--.-\n",
      "7\t\t5\t\t62.400\t\t\t31.200\n",
      "7\t\t4\t\t60.000\t\t\t24.000\n",
      "7\t\t3\t\t60.333\t\t\t33.333\n",
      "7\t\t2\t\t28.500\t\t\t31.500\n",
      "\n",
      "# of hands\t# of players\tRoyal Count-Strategy\tRandom-strategy\n",
      "-.--.--.--.--.--.--.--.--.--.--.--.--.--.--.--.--.--.--.--.--.--.--.--.--.-\n",
      "6\t\t5\t\t53.200\t\t\t29.800\n",
      "6\t\t4\t\t53.750\t\t\t27.500\n",
      "6\t\t3\t\t44.000\t\t\t51.000\n",
      "6\t\t2\t\t43.000\t\t\t45.500\n",
      "\n",
      "# of hands\t# of players\tRoyal Count-Strategy\tRandom-strategy\n",
      "-.--.--.--.--.--.--.--.--.--.--.--.--.--.--.--.--.--.--.--.--.--.--.--.--.-\n",
      "5\t\t5\t\t54.200\t\t\t40.000\n",
      "5\t\t4\t\t59.000\t\t\t28.500\n",
      "5\t\t3\t\t39.000\t\t\t18.333\n",
      "5\t\t2\t\t41.500\t\t\t22.000\n",
      "\n",
      "# of hands\t# of players\tRoyal Count-Strategy\tRandom-strategy\n",
      "-.--.--.--.--.--.--.--.--.--.--.--.--.--.--.--.--.--.--.--.--.--.--.--.--.-\n",
      "4\t\t5\t\t37.800\t\t\t26.800\n",
      "4\t\t4\t\t26.500\t\t\t29.000\n",
      "4\t\t3\t\t28.000\t\t\t14.667\n",
      "4\t\t2\t\t25.500\t\t\t29.000\n",
      "\n",
      "# of hands\t# of players\tRoyal Count-Strategy\tRandom-strategy\n",
      "-.--.--.--.--.--.--.--.--.--.--.--.--.--.--.--.--.--.--.--.--.--.--.--.--.-\n",
      "3\t\t5\t\t28.800\t\t\t25.200\n",
      "3\t\t4\t\t25.250\t\t\t18.250\n",
      "3\t\t3\t\t34.333\t\t\t17.000\n",
      "3\t\t2\t\t20.000\t\t\t22.000\n",
      "\n",
      "# of hands\t# of players\tRoyal Count-Strategy\tRandom-strategy\n",
      "-.--.--.--.--.--.--.--.--.--.--.--.--.--.--.--.--.--.--.--.--.--.--.--.--.-\n",
      "2\t\t5\t\t28.600\t\t\t18.200\n",
      "2\t\t4\t\t17.750\t\t\t10.250\n",
      "2\t\t3\t\t17.333\t\t\t24.667\n",
      "2\t\t2\t\t10.000\t\t\t16.500\n",
      "\n",
      "# of hands\t# of players\tRoyal Count-Strategy\tRandom-strategy\n",
      "-.--.--.--.--.--.--.--.--.--.--.--.--.--.--.--.--.--.--.--.--.--.--.--.--.-\n",
      "1\t\t5\t\t14.000\t\t\t12.200\n",
      "1\t\t4\t\t15.250\t\t\t5.000\n",
      "1\t\t3\t\t13.667\t\t\t6.667\n",
      "1\t\t2\t\t10.500\t\t\t10.000\n",
      "\n"
     ]
    }
   ],
   "source": [
    "\n",
    "for num_hands in num_hands_range:\n",
    "    print(f\"# of hands\\t# of players\\tRoyal Count-Strategy\\tRandom-strategy\")\n",
    "    print('-.-'*25)\n",
    "    for num_players in num_players_range:\n",
    "        expected_value1 = results1[num_hands][num_players]\n",
    "        expected_value2 = results2[num_hands][num_players]\n",
    "        print(f\"{num_hands}\\t\\t{num_players}\\t\\t{expected_value1:.3f}\\t\\t\\t{expected_value2:.3f}\")\n",
    "    print()"
   ]
  },
  {
   "cell_type": "code",
   "execution_count": null,
   "metadata": {},
   "outputs": [],
   "source": []
  }
 ],
 "metadata": {
  "kernelspec": {
   "display_name": "Python 3",
   "language": "python",
   "name": "python3"
  },
  "language_info": {
   "codemirror_mode": {
    "name": "ipython",
    "version": 3
   },
   "file_extension": ".py",
   "mimetype": "text/x-python",
   "name": "python",
   "nbconvert_exporter": "python",
   "pygments_lexer": "ipython3",
   "version": "3.11.5"
  }
 },
 "nbformat": 4,
 "nbformat_minor": 2
}
